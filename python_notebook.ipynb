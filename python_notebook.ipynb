{
 "cells": [
  {
   "cell_type": "code",
   "execution_count": 10,
   "id": "d1775a39-9fb2-4705-a48e-21d1e0635f5d",
   "metadata": {
    "tags": []
   },
   "outputs": [
    {
     "data": {
      "text/latex": [
       "$\\displaystyle \\left[\\begin{matrix}d p q + 1 & - d p^{2}\\\\d q^{2} & - d p q + 1\\end{matrix}\\right]$"
      ],
      "text/plain": [
       "Matrix([\n",
       "[d*p*q + 1,    -d*p**2],\n",
       "[   d*q**2, -d*p*q + 1]])"
      ]
     },
     "metadata": {},
     "output_type": "display_data"
    },
    {
     "data": {
      "text/latex": [
       "$\\displaystyle \\left[\\begin{matrix}\\frac{d p^{2}}{2}\\\\\\frac{d p q}{2}\\end{matrix}\\right]$"
      ],
      "text/plain": [
       "Matrix([\n",
       "[d*p**2/2],\n",
       "[ d*p*q/2]])"
      ]
     },
     "metadata": {},
     "output_type": "display_data"
    },
    {
     "data": {
      "text/latex": [
       "$\\displaystyle \\left[\\begin{matrix}\\frac{d p q}{2} + 2\\end{matrix}\\right]$"
      ],
      "text/plain": [
       "Matrix([[d*p*q/2 + 2]])"
      ]
     },
     "metadata": {},
     "output_type": "display_data"
    },
    {
     "data": {
      "text/latex": [
       "$\\displaystyle \\left[\\begin{matrix}\\frac{d p^{2}}{2} - \\frac{d p q}{2} + 2\\end{matrix}\\right]$"
      ],
      "text/plain": [
       "Matrix([[d*p**2/2 - d*p*q/2 + 2]])"
      ]
     },
     "metadata": {},
     "output_type": "display_data"
    },
    {
     "data": {
      "text/latex": [
       "$\\displaystyle \\left[\\begin{matrix}d p^{2} y - x \\left(d p^{2} + d p q - 1\\right)\\\\x\\end{matrix}\\right]$"
      ],
      "text/plain": [
       "Matrix([\n",
       "[d*p**2*y - x*(d*p**2 + d*p*q - 1)],\n",
       "[                                x]])"
      ]
     },
     "metadata": {},
     "output_type": "display_data"
    },
    {
     "data": {
      "text/latex": [
       "$\\displaystyle \\left[\\begin{matrix}d^{2} p^{4} y - d^{2} p^{3} q x - d p^{2} x + x\\\\- d p^{2} y + x \\left(d p q + 1\\right)\\end{matrix}\\right]$"
      ],
      "text/plain": [
       "Matrix([\n",
       "[d**2*p**4*y - d**2*p**3*q*x - d*p**2*x + x],\n",
       "[                 -d*p**2*y + x*(d*p*q + 1)]])"
      ]
     },
     "metadata": {},
     "output_type": "display_data"
    },
    {
     "data": {
      "text/latex": [
       "$\\displaystyle \\left[\\begin{matrix}1 & 1\\\\\\frac{q}{p} & \\frac{q}{p} - \\frac{1}{d p^{2}}\\end{matrix}\\right]$"
      ],
      "text/plain": [
       "Matrix([\n",
       "[  1,                1],\n",
       "[q/p, q/p - 1/(d*p**2)]])"
      ]
     },
     "execution_count": 10,
     "metadata": {},
     "output_type": "execute_result"
    }
   ],
   "source": [
    "from sympy import *\n",
    "from sympy.abc import d,p,q,x,y\n",
    "\n",
    "M=Matrix([[(1+d*p*q),-d*p**2],[d*q**2,1-d*p*q]])\n",
    "display(M)\n",
    "\n",
    "# Lines of Lower bound rectangle\n",
    "α=Matrix([2-d*p*q,d*p**2]).transpose()\n",
    "β=simplify(α*M)\n",
    "#display(α,β)\n",
    "\n",
    "# Corner Point of triangle on branch cut line\n",
    "a=Matrix([α,[-q,p]])**-1 * Matrix([α*Matrix([0,1]),[0]])\n",
    "b=Matrix([α,β])**-1 * Matrix([α*Matrix([0,1]),β*Matrix([0,-1])])\n",
    "display(a)\n",
    "\n",
    "# Horizontal Probe\n",
    "display(simplify(β*Matrix([a[0]*2,a[1]])/(β*Matrix([0,-1]))[0]))\n",
    "\n",
    "# Skew Probe\n",
    "display(simplify(α*Matrix([2*a[0],a[1]+a[0]])/(α*Matrix([0,1]))[0]))\n",
    "\n",
    "\n",
    "#####\n",
    "#\n",
    "L=Matrix([[0,1],[1/(d*p**2),(d*p*q-1)/(d*p**2)]])\n",
    "S=Matrix([[1,0],[1,1]])\n",
    "\n",
    "display(simplify((S*L)**-1*Matrix([x,y])))\n",
    "display(simplify((S*L)**-1*M*Matrix([x,y])))\n",
    "\n",
    "simplify(L*S)\n"
   ]
  }
 ],
 "metadata": {
  "kernelspec": {
   "display_name": "Python 3 (ipykernel)",
   "language": "python",
   "name": "python3"
  },
  "language_info": {
   "codemirror_mode": {
    "name": "ipython",
    "version": 3
   },
   "file_extension": ".py",
   "mimetype": "text/x-python",
   "name": "python",
   "nbconvert_exporter": "python",
   "pygments_lexer": "ipython3",
   "version": "3.10.10"
  }
 },
 "nbformat": 4,
 "nbformat_minor": 5
}
